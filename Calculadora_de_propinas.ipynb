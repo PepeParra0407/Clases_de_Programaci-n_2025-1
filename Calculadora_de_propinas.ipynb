{
  "cells": [
    {
      "cell_type": "markdown",
      "metadata": {
        "id": "view-in-github",
        "colab_type": "text"
      },
      "source": [
        "<a href=\"https://colab.research.google.com/github/PepeParra0407/Clases_de_Programaci-n_2025-1/blob/main/Calculadora_de_propinas.ipynb\" target=\"_parent\"><img src=\"https://colab.research.google.com/assets/colab-badge.svg\" alt=\"Open In Colab\"/></a>"
      ]
    },
    {
      "cell_type": "markdown",
      "metadata": {
        "id": "W_xld5n0k0gy"
      },
      "source": [
        "Una calculadora de propinas es una herramienta que podemos utilizar cuando realizamos un consumo en algún restaurante o cualquier lugar donde se nos haya brindado un servicio por parte de un mesero y queramos retribuir su trabajo, siendo de manera automática el cálculo, tanto del porcentaje de propina como de la cantidad exacta a pagar por persona en caso de que queramos dividir el monto.\n",
        "\n",
        "**Lenguaje utilizado:** Python\n",
        "**Entorno:** Colab\n",
        "\n"
      ]
    },
    {
      "cell_type": "code",
      "execution_count": 22,
      "metadata": {
        "colab": {
          "base_uri": "https://localhost:8080/"
        },
        "id": "RS9CAsWRoIpj",
        "outputId": "033761a6-25d2-4f56-90ab-8f00a1338a6e"
      },
      "outputs": [
        {
          "output_type": "stream",
          "name": "stdout",
          "text": [
            "Hola, Bienvenido al sistema de calculo automático de propinas\n",
            "¿Cuál fue el total de su cuenta?\n",
            "1000\n",
            "¿Desea agregar propina?\n",
            "1.si\n",
            "2.no\n",
            "1\n",
            "Tu elección fue 1\n",
            "ingrese el número del monto que desea agregar \n",
            "1.10%\n",
            "2.15%\n",
            "3.20%\n",
            "monto2\n",
            "La propina es de: $1150.00\n",
            "¿Desea dividir su cuenta?\n",
            "1.si\n",
            "2.no\n",
            "1\n",
            "Tu elección fue 1\n",
            "¿Cuántas personas van a dividir la cuenta?\n",
            "\n",
            "4\n",
            "El monto a pagar por persona es de $287.50\n"
          ]
        }
      ],
      "source": [
        "print('Hola, Bienvenido al sistema de calculo automático de propinas')\n",
        "cuenta=float(input('¿Cuál fue el total de su cuenta?\\n'))\n",
        "print('¿Desea agregar propina?\\n1.si\\n2.no')\n",
        "propina= int(input())\n",
        "print(f'Tu elección fue {propina}')\n",
        "porcentaje_propina=0\n",
        "\n",
        "def total_con_propina(cuenta, monto_propina):\n",
        "    return (cuenta * monto_propina/100 + cuenta)\n",
        "if propina==1:\n",
        "  print('ingrese el número del monto que desea agregar \\n1.10%\\n2.15%\\n3.20%')\n",
        "  monto_propina= int(input('monto'))\n",
        "  if monto_propina ==1:\n",
        "    porcentaje_propina = 10\n",
        "    print(f\"La propina es de: ${total_con_10:.2f}\")\n",
        "  elif monto_propina ==2:\n",
        "    porcentaje_propina = 15\n",
        "    print(f\"La propina es de: ${total_con_15:.2f}\")\n",
        "  elif monto_propina ==3:\n",
        "    porcentaje_propina = 20\n",
        "    print(f\"La propina es de: ${total_con_20:.2f}\")\n",
        "  else:\n",
        "    print(\"Opción no encontrada, no se agregará propina.\")\n",
        "    porcentaje_propina = 0\n",
        "\n",
        "  print('¿Desea dividir su cuenta?\\n1.si\\n2.no')\n",
        "  dividir_cuenta=int(input())\n",
        "  if dividir_cuenta == 1:\n",
        "    print(f'Tu elección fue {dividir_cuenta}')\n",
        "    print('¿Cuántas personas van a dividir la cuenta?\\n')\n",
        "    personas= int(input())\n",
        "    tpp = (total_con_propina(cuenta, porcentaje_propina))/personas\n",
        "    print(f'El monto a pagar por persona es de ${tpp:.2f}')\n",
        "  else:\n",
        "    print(f'Gracias por su visita, su cobro final es de ${cuenta:.2f}')\n",
        "else:\n",
        "  print(f'Gracias por su visita, su cobro final es de ${cuenta:.2f}')"
      ]
    },
    {
      "cell_type": "code",
      "execution_count": null,
      "metadata": {
        "id": "lan6vBo4qkdE"
      },
      "outputs": [],
      "source": []
    }
  ],
  "metadata": {
    "colab": {
      "provenance": [],
      "authorship_tag": "ABX9TyOmLSV/lZDgVUAfb5z50In1",
      "include_colab_link": true
    },
    "kernelspec": {
      "display_name": "Python 3",
      "name": "python3"
    },
    "language_info": {
      "name": "python"
    }
  },
  "nbformat": 4,
  "nbformat_minor": 0
}