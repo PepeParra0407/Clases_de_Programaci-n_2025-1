{
  "nbformat": 4,
  "nbformat_minor": 0,
  "metadata": {
    "colab": {
      "provenance": [],
      "authorship_tag": "ABX9TyNj98eTMj/YkMEH3yXxycjK",
      "include_colab_link": true
    },
    "kernelspec": {
      "name": "python3",
      "display_name": "Python 3"
    },
    "language_info": {
      "name": "python"
    }
  },
  "cells": [
    {
      "cell_type": "markdown",
      "metadata": {
        "id": "view-in-github",
        "colab_type": "text"
      },
      "source": [
        "<a href=\"https://colab.research.google.com/github/PepeParra0407/Clases_de_Programaci-n_2025-1/blob/main/Indice_de_cadena_de_texto.ipynb\" target=\"_parent\"><img src=\"https://colab.research.google.com/assets/colab-badge.svg\" alt=\"Open In Colab\"/></a>"
      ]
    },
    {
      "cell_type": "code",
      "execution_count": 4,
      "metadata": {
        "colab": {
          "base_uri": "https://localhost:8080/"
        },
        "id": "T4Oy1lqhJW41",
        "outputId": "7b4c3c6d-dcd2-439e-fbab-57f108bb1add"
      },
      "outputs": [
        {
          "output_type": "stream",
          "name": "stdout",
          "text": [
            "Bienvenidos\n"
          ]
        }
      ],
      "source": [
        "print (\"Bienvenidos\")\n"
      ]
    },
    {
      "cell_type": "code",
      "source": [
        "palabra = \"Bienvenidos\"\n",
        "print(palabra[0])\n",
        "len(palabra)\n",
        "\n",
        "print(palabra[10])\n",
        "print(palabra[-1])"
      ],
      "metadata": {
        "colab": {
          "base_uri": "https://localhost:8080/"
        },
        "id": "_OjO72p6Kb_h",
        "outputId": "6f1204d3-22b0-4cd3-bb4f-9c4b5a4d47bc"
      },
      "execution_count": 9,
      "outputs": [
        {
          "output_type": "stream",
          "name": "stdout",
          "text": [
            "B\n",
            "s\n",
            "s\n"
          ]
        }
      ]
    }
  ]
}