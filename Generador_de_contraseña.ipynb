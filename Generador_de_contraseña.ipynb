{
  "nbformat": 4,
  "nbformat_minor": 0,
  "metadata": {
    "colab": {
      "provenance": [],
      "authorship_tag": "ABX9TyODlTh5Qszm4JqARQtWb6wX",
      "include_colab_link": true
    },
    "kernelspec": {
      "name": "python3",
      "display_name": "Python 3"
    },
    "language_info": {
      "name": "python"
    }
  },
  "cells": [
    {
      "cell_type": "markdown",
      "metadata": {
        "id": "view-in-github",
        "colab_type": "text"
      },
      "source": [
        "<a href=\"https://colab.research.google.com/github/PepeParra0407/Clases_de_Programaci-n_2025-1/blob/main/Generador_de_contrase%C3%B1a.ipynb\" target=\"_parent\"><img src=\"https://colab.research.google.com/assets/colab-badge.svg\" alt=\"Open In Colab\"/></a>"
      ]
    },
    {
      "cell_type": "markdown",
      "source": [
        "##José Alberto Parra Espinoza"
      ],
      "metadata": {
        "id": "YfTConuFx4q-"
      }
    },
    {
      "cell_type": "code",
      "execution_count": 21,
      "metadata": {
        "colab": {
          "base_uri": "https://localhost:8080/"
        },
        "id": "Or_C7kFXx1yX",
        "outputId": "c1f0a454-4e60-4d03-a8d7-939f2dcd2cc8"
      },
      "outputs": [
        {
          "output_type": "stream",
          "name": "stdout",
          "text": [
            "Escribe el nombre de tu mascota \n",
            "pucca\n",
            "Escribe tu ciudad favorita \n",
            "merida\n",
            "Se te asignará un número aleatorio \n",
            "\n",
            "9\n",
            "Tu nueva contraseña es puccamerida9\n"
          ]
        }
      ],
      "source": [
        "import random\n",
        "\n",
        "numero_aleatorio=random.randint(1, 10)\n",
        "\n",
        "mascota=input(\"Escribe el nombre de tu mascota \\n\")\n",
        "ciudad= input(\"Escribe tu ciudad favorita \\n\")\n",
        "print('Se te asignará un número aleatorio \\n')\n",
        "print(numero_aleatorio)\n",
        "numero=str(numero_aleatorio)\n",
        "print (f\"Tu nueva contraseña es \" + mascota + ciudad + numero)"
      ]
    }
  ]
}