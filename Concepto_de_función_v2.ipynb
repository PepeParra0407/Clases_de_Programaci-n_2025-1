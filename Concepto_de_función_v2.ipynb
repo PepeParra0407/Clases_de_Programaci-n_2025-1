{
  "nbformat": 4,
  "nbformat_minor": 0,
  "metadata": {
    "colab": {
      "provenance": [],
      "include_colab_link": true
    },
    "kernelspec": {
      "name": "python3",
      "display_name": "Python 3"
    },
    "language_info": {
      "name": "python"
    }
  },
  "cells": [
    {
      "cell_type": "markdown",
      "metadata": {
        "id": "view-in-github",
        "colab_type": "text"
      },
      "source": [
        "<a href=\"https://colab.research.google.com/github/PepeParra0407/Clases_de_Programaci-n_2025-1/blob/main/Concepto_de_funci%C3%B3n_v2.ipynb\" target=\"_parent\"><img src=\"https://colab.research.google.com/assets/colab-badge.svg\" alt=\"Open In Colab\"/></a>"
      ]
    },
    {
      "cell_type": "markdown",
      "source": [
        "---\n",
        "---\n",
        "# **Concepto de función.**\n",
        "---\n",
        "---\n",
        "\n",
        "**Función matemática.**\n",
        "\n",
        "Una función matemática es una **regla de correspondencia** entre dos conjuntos de tal manera que a cada elemento del primer conjunto le corresponde uno y sólo un elemento del segundo conjunto.\n",
        "\n",
        "\n",
        "**Función (método) en programación.**\n",
        "\n",
        "Bloque de código que realiza alguna operación específica. Permite tener parámetros de entrada -> función -> valores de salida.\n",
        "\n",
        "---"
      ],
      "metadata": {
        "id": "EBsok545Kmgq"
      }
    },
    {
      "cell_type": "markdown",
      "source": [
        "**Sintaxis básica:**\n",
        "\n",
        "En la mayoría de los lenguajes de programación, la sintaxis básica para definir una función incluye la palabra clave def (o equivalente) seguida del nombre de la función y paréntesis que pueden contener los parámetros de entrada.\n",
        "sintaxis basica funcion programacion"
      ],
      "metadata": {
        "id": "kWt0C9sWTeZC"
      }
    },
    {
      "cell_type": "code",
      "source": [
        "def nombre_de_la_funcion(parametro_1,parametro_2):\n",
        "    # Cuerpo de la función\n",
        "    # ..."
      ],
      "metadata": {
        "id": "P_5qxOOaTm07"
      },
      "execution_count": null,
      "outputs": []
    },
    {
      "cell_type": "markdown",
      "source": [
        "1. El **nombre de la función** la identifica de forma única y se usa para **llamarla** más adelante en el código.\n",
        "\n",
        "2. Los **parámetros** son variables que la función espera recibir cuando se llama, y son utilizados dentro del cuerpo de la función para realizar operaciones.\n",
        "\n",
        "3. El **cuerpo de la función** es el bloque de código (indentado) que define las operaciones que la función realiza."
      ],
      "metadata": {
        "id": "Cmt15Y9cT7Q6"
      }
    },
    {
      "cell_type": "markdown",
      "source": [
        "# **Llamar a la Función**\n",
        "\n",
        "Una vez definida la función, se puede **llamar*** en cualquier parte del código."
      ],
      "metadata": {
        "id": "XYoGglVBVAPu"
      }
    },
    {
      "cell_type": "code",
      "source": [
        "resultado = nombre_de_la_funcion(parametro_1,parametro_2)\n",
        "\n",
        "valor = resultado * 2\n",
        "\n",
        "print(valor)"
      ],
      "metadata": {
        "id": "KAO6GzQxVUOA"
      },
      "execution_count": null,
      "outputs": []
    },
    {
      "cell_type": "markdown",
      "source": [
        "**Documentación de funciones:**\n",
        "\n",
        "Es una buena práctica incluir comentarios que describan:\n",
        "\n",
        "* El propósito de la función.\n",
        "* Los parámetros que acepta.\n",
        "* El valor que devuelve."
      ],
      "metadata": {
        "id": "TD22bGncVpFX"
      }
    },
    {
      "cell_type": "code",
      "source": [
        "def suma(a,b):\n",
        "    '''\n",
        "    Esta función devuelve la suma de dos números\n",
        "    :Parámetro 1: Primer número.\n",
        "    :Parámetro 2: Segundo número.\n",
        "    :return: Suma de a + b.\n",
        "    '''\n",
        "\n",
        "    return a+b"
      ],
      "metadata": {
        "id": "zjeKmF-SWD0C"
      },
      "execution_count": null,
      "outputs": []
    },
    {
      "cell_type": "markdown",
      "source": [
        "La palabra clave que indica que valor o valores va a regresar la función se denomina **return** ."
      ],
      "metadata": {
        "id": "rz0Bv-nKZWz7"
      }
    },
    {
      "cell_type": "markdown",
      "source": [
        "---\n",
        "Una función es un conjunto de instrucciones **reutilizables** que se llama cada que se necesite.\n",
        "\n",
        "---\n",
        "\n",
        "Características claves:\n",
        "\n",
        "1. Acotar el ***ambito*** o el contexto donde se puede acceder la función.\n",
        "2. Reutilizar el código.\n",
        "3. Organizar el código en ***módulos*** pequeños.\n",
        "4. Manejo de errores.\n",
        "5. Funciones anidadas.  \n"
      ],
      "metadata": {
        "id": "A4a1iU4BZ0Br"
      }
    },
    {
      "cell_type": "markdown",
      "source": [
        "\n",
        "\n",
        "---\n",
        "**Pasos para construir una función.**\n",
        "\n",
        "---\n",
        "\n",
        "1. Definir la función:\n",
        "        Define la tarea a realizar y le da un nombre descriptivo.\n",
        "2. Declarar parámetros (si es necesario):\n",
        "        Identifica si la función necesita información para realizar su tarea y define los parámetros que aceptará.\n",
        "3. Especificar el retorno (si es necesario):\n",
        "        Decide si la función devolverá algún valor al final de su ejecución y específica la variable de salida.\n",
        "4. Escribir el cuerpo de la función:\n",
        "        Contiene las instrucciones y cálculos específicas que la función realiza.\n",
        "5. Gestionar el ámbito de las variables:\n",
        "        Las variables pueden ser locales (solo visibles dentro de la función) o globales (visibles en todo el programa).\n",
        "6. Manejar excepciones (si es necesario):\n",
        "        Cómo manejar errores  o condiciones inesperadas mediante la gestión de excepciones.\n",
        "7. Documentar la función:\n",
        "        Incluir información sobre el propósito de la función, los parámetros que acepta y devuelve, etc.\n",
        "8. Probar la función:\n",
        "        Probar la función por separado para detectar y corregir posibles errores."
      ],
      "metadata": {
        "id": "fxB-LR59b1uZ"
      }
    },
    {
      "cell_type": "markdown",
      "source": [
        "# Ejemplo de función"
      ],
      "metadata": {
        "id": "vzInz-Ah65wP"
      }
    },
    {
      "cell_type": "code",
      "source": [
        "# Ejemplo de implementación de una función.\n",
        "\n",
        "############### Inicia la definición de la función #####################\n",
        "\n",
        "def suma(a, b):\n",
        "    \"\"\"\n",
        "    Esta función devuelve la suma de dos números.\n",
        "    Args:\n",
        "        a: Primer número.\n",
        "        b: Segundo número.\n",
        "    Returns:\n",
        "        La suma de a + b.\n",
        "    \"\"\"\n",
        "    return a + b\n",
        "\n",
        "############### Termina la definición de la función #####################\n",
        "\n",
        "\n",
        "############## Inicia sección principal de código (MAIN) ################\n",
        "\n",
        "# Ejecutando la función y guardando el resultado en la variable c.\n",
        "c = suma(2, 3)\n",
        "\n",
        "# muestra el resultado.\n",
        "print(c)"
      ],
      "metadata": {
        "colab": {
          "base_uri": "https://localhost:8080/"
        },
        "id": "PxRmsW71E5Zq",
        "outputId": "d3926773-c211-4b7e-965b-693d10bfa0a0"
      },
      "execution_count": 4,
      "outputs": [
        {
          "output_type": "stream",
          "name": "stdout",
          "text": [
            "5\n"
          ]
        }
      ]
    },
    {
      "cell_type": "markdown",
      "source": [
        "# Usando la sentencia IMPORT, es posible definir las funciones en archivos externos..."
      ],
      "metadata": {
        "id": "iFsxxynD8vRb"
      }
    },
    {
      "cell_type": "code",
      "source": [
        "from libreria_operaciones import suma\n",
        "\n",
        "# Ejecutando la función y guardando el resultado en la variable c.\n",
        "c = suma(6, 8)\n",
        "\n",
        "# muestra el resultado.\n",
        "\n",
        "print(\"El resultado es \",c)\n"
      ],
      "metadata": {
        "colab": {
          "base_uri": "https://localhost:8080/"
        },
        "id": "pVbkzCohAoSN",
        "outputId": "981d5140-4298-400d-aeef-5e598c11bdfa"
      },
      "execution_count": null,
      "outputs": [
        {
          "output_type": "stream",
          "name": "stdout",
          "text": [
            "El resultado es  14\n"
          ]
        }
      ]
    },
    {
      "cell_type": "markdown",
      "source": [],
      "metadata": {
        "id": "cHrUzTFKDZ3J"
      }
    },
    {
      "cell_type": "markdown",
      "source": [],
      "metadata": {
        "id": "BFvPxtvVEbfa"
      }
    }
  ]
}