{
  "nbformat": 4,
  "nbformat_minor": 0,
  "metadata": {
    "colab": {
      "provenance": [],
      "include_colab_link": true
    },
    "kernelspec": {
      "name": "python3",
      "display_name": "Python 3"
    },
    "language_info": {
      "name": "python"
    }
  },
  "cells": [
    {
      "cell_type": "markdown",
      "metadata": {
        "id": "view-in-github",
        "colab_type": "text"
      },
      "source": [
        "<a href=\"https://colab.research.google.com/github/PepeParra0407/Clases_de_Programaci-n_2025-1/blob/main/ProyectoFinalParra.ipynb\" target=\"_parent\"><img src=\"https://colab.research.google.com/assets/colab-badge.svg\" alt=\"Open In Colab\"/></a>"
      ]
    },
    {
      "cell_type": "markdown",
      "source": [
        "## PROYECTO FINAL DE PYTHON"
      ],
      "metadata": {
        "id": "UFP5zV-qQkI8"
      }
    },
    {
      "cell_type": "markdown",
      "source": [
        "Proyecto: **Juego de Comparación de Seguidores en Instagram**\n",
        "Objetivo\n",
        "Crear un juego en el que el usuario debe adivinar cuál de dos opciones tiene más seguidores en Instagram, utilizando una lista de diccionarios para almacenar los datos de las celebridades o entidades.\n",
        "\n",
        "Estructura del Proyecto\n",
        "Importar Módulos Necesarios\n",
        "\n",
        "Usaremos random para seleccionar elementos aleatorios.\n",
        "Crear una Lista de Diccionarios\n",
        "\n",
        "Cada diccionario representará una entidad (celebridad, marca, etc.) y contendrá su nombre, número de seguidores en Instagram, una breve descripción y su país de origen.\n",
        "\n",
        "Función Principal del Juego\n",
        "\n",
        "1. Seleccionar aleatoriamente dos entidades de la lista.\n",
        "2. Preguntar al usuario cuál tiene más seguidores.\n",
        "3. Comprobar la respuesta del usuario.\n",
        "4. Actualizar el puntaje y continuar el juego o finalizar si la respuesta es incorrecta.\n",
        "\n",
        "Sugerencias Adicionales:\n",
        "\n",
        "*   Pueden añadir más elementos a la lista para diversificar el juego.\n",
        "*   Consideren implementar una opción para reiniciar el juego."
      ],
      "metadata": {
        "id": "96HY-8qqQoK7"
      }
    },
    {
      "cell_type": "code",
      "execution_count": null,
      "metadata": {
        "id": "pZGEc8dxQV-6",
        "colab": {
          "base_uri": "https://localhost:8080/"
        },
        "outputId": "4f326e32-3e84-4d4c-8be9-a42d2ff998be"
      },
      "outputs": [
        {
          "output_type": "stream",
          "name": "stdout",
          "text": [
            "¿Deseas comenzar el juego de comparador de seguidores de Instagram?\n"
          ]
        }
      ],
      "source": [
        "# Define aquí tus imports\n",
        "\n",
        "import random\n",
        "# Lista de Datos: Se define una lista llamada datos que contiene diccionarios con nombres y seguidores.\n",
        "datos = [\n",
        "    {\n",
        "        \"nombre\" : \"Dodgers\",\n",
        "        \"seg_instagram\" : 4300000,\n",
        "        \"descripcion\": \"Equipo profesional de béisbol originario de Estados Unidos, con sede en Los Ángeles, California\",\n",
        "        \"pais\" : \"Estados Unidos\"\n",
        "    },\n",
        "    {\n",
        "        \"nombre\" : \"Shakira\",\n",
        "        \"seg_instagram\" : 90400000,\n",
        "        \"descripcion\": \"Cantante, compositora, productora, bailarina, multinstrumentista, empresaria y actriz colombiana.\",\n",
        "        \"pais\" : \"Colombia\"\n",
        "    },\n",
        "    {\n",
        "        \"nombre\" : \"Kim Kardashian\",\n",
        "        \"seg_instagram\" : 364000000,\n",
        "        \"descripcion\": \"Socialite, modelo y empresaria estadounidense.\",\n",
        "        \"pais\" : \"Estados Unidos\"\n",
        "    },\n",
        "    {\n",
        "        \"nombre\" : \"Taj Mahal\",\n",
        "        \"seg_instagram\" : 12400,\n",
        "        \"descripcion\": \"Monumento funerario construido entre 1632 y 1654 en la ciudad de Agra por el emperador musulmán Shah Jahan de la dinastía mogol en honor de su esposa favorita\",\n",
        "        \"pais\" : \"India\"\n",
        "    },\n",
        "    {\n",
        "        \"nombre\" : \"Mark Zuckerberg\",\n",
        "        \"seg_instagram\" : 15100000,\n",
        "        \"descripcion\": \"Programador y empresario Estadounidense uno de los creadores y fundadores de Facebook y la red social homónima, y su actual presidente.\",\n",
        "        \"pais\" : \"Estados Unidos\"\n",
        "    },\n",
        "    {\n",
        "        \"nombre\" : \"Tesla Motors\",\n",
        "        \"seg_instagram\" : 9600000,\n",
        "        \"descripcion\": \"Electric vehicles, giant batteries & solar, AI & robotics.\",\n",
        "        \"pais\" : \"Estados Unidos\"\n",
        "    },\n",
        "    {\n",
        "        \"nombre\" : \"Donald J. Trump\",\n",
        "        \"seg_instagram\" : 26700000,\n",
        "        \"descripcion\": \"45th President of the United States.\",\n",
        "        \"pais\" : \"Estados Unidos\"\n",
        "    },\n",
        "    {\n",
        "        \"nombre\" : \"Cristiano Ronaldo\",\n",
        "        \"seg_instagram\" : 626100000,\n",
        "        \"descripcion\": \"Futbolista portugués. Juega como extremo izquierdo o delantero y su equipo actual es el Al-Nassr F. C. de la Liga Profesional Saudí.\",\n",
        "        \"pais\" : \"Portugal\"\n",
        "    },\n",
        "    {\n",
        "        \"nombre\" : \"Fórmula 1\",\n",
        "        \"seg_instagram\" : 31000000,\n",
        "        \"descripcion\": \"Fórmula 1 es la categoría más alta de automovilismo a nivel mundial, conocida por sus carreras en circuitos de gran velocidad y por ser un deporte tecnológicamente avanzado.\",\n",
        "        \"pais\" : \"Estados Unidos\"\n",
        "    },\n",
        "    {\n",
        "        \"nombre\" : \"WNBA (Women's National Basketball Association)\",\n",
        "        \"seg_instagram\" : 3000000,\n",
        "        \"descripcion\": \"Liga profesional de baloncesto femenino en los Estados Unidos, fundada en 1996. Se destaca por promover la igualdad de género en el deporte.\",\n",
        "        \"pais\" : \"Estados Unidos\"\n",
        "    },\n",
        "    {\n",
        "        \"nombre\" : \"Premios Nobel\",\n",
        "        \"seg_instagram\" : 1300000,\n",
        "        \"descripcion\": \"Los Premios Nobel son premios internacionales que reconocen logros sobresalientes en campos como la física, la química, la paz, la literatura y más.\",\n",
        "        \"pais\" : \"Suecia\"\n",
        "    },\n",
        "    {\n",
        "        \"nombre\" : \"Kamala Harris\",\n",
        "        \"seg_instagram\" :22000000 ,\n",
        "        \"descripcion\": \"Actual vicepresidenta de los Estados Unidos, la primera mujer y persona de origen afroamericano y sudasiático en ocupar este puesto.\",\n",
        "        \"pais\" : \"Estados Unidos\"\n",
        "    },\n",
        "    {\n",
        "        \"nombre\" : \"Andrés Manuel López Obrador\",\n",
        "        \"seg_instagram\" : 2400000,\n",
        "        \"descripcion\": \"Presidente de México desde 2018 a 2024, conocido por su enfoque en combatir la corrupción y priorizar programas sociales.\",\n",
        "        \"pais\" : \"México\"\n",
        "    },\n",
        "    {\n",
        "        \"nombre\" : \"Claudia Sheinbaum\",\n",
        "        \"seg_instagram\" : 1400000,\n",
        "        \"descripcion\": \"Primera mujer presidenta de México. Anteriormente fue jefa de gobierno de la Ciudad de México y científica ambiental.\",\n",
        "        \"pais\" : \"México\"\n",
        "    }\n",
        "]\n",
        "\n",
        "def juego():\n",
        "    \"\"\"Función juego(): Controla el flujo del juego.\"\"\"\n",
        "    #Se inicializa el score a 0 y se establece un bucle que continúa hasta que el usuario falle.\n",
        "    score = 0\n",
        "    juego_en_curso = True\n",
        "\n",
        "    while juego_en_curso:\n",
        "        # Selecciona dos elementos aleatorios\n",
        "        opcion1, opcion2 = random.sample(datos, 2)\n",
        "\n",
        "        print(f\"\\n¿Quién tiene más seguidores en Instagram?\")\n",
        "        print(f\"A) {opcion1['nombre']} : {opcion1['descripcion']} de {opcion1['pais']}\")\n",
        "        print(f\"B) {opcion2['nombre']} : {opcion2['descripcion']} de {opcion2['pais']}\")\n",
        "\n",
        "        # Obtener respuesta del usuario\n",
        "        respuesta = input(\"Escribe 'A' o 'B': \").strip().upper()\n",
        "\n",
        "        # Comprobar la respuesta\n",
        "        # (Aquí falta la lógica para comprobar la respuesta)\n",
        "\n",
        "        if respuesta == 'A':\n",
        "          if opcion1['seg_instagram'] > opcion2['seg_instagram']:\n",
        "            score += 1\n",
        "            print(f\"¡Correcto!, Score: {score}\")\n",
        "        elif respuesta == 'B':\n",
        "          if opcion2['seg_instagram'] > opcion1['seg_instagram']:\n",
        "            score += 1\n",
        "            print(f\"¡Correcto!, Score: {score}\")\n",
        "          else:\n",
        "            print(\"¡Incorrecto!\")\n",
        "            juego_en_curso = False\n",
        "            print(f\"Tu puntaje final es: {score}\")\n",
        "        else:\n",
        "          print(\"Por favor elige solo entre las letras 'A' o 'B'.\")\n",
        "\n",
        "  # (Aquí falta el mensaje final de puntaje)\n",
        "    juego_en_curso = False\n",
        "    print(f'El juego ha terminado, tu puntaje final es:{score}')\n",
        "\n",
        "# Iniciar el juego\n",
        "if __name__ == \"__main__\":\n",
        "  print(\"¿Deseas comenzar el juego de comparador de seguidores de Instagram?\")\n",
        "  inicio = input(\"Escribe 'si' o 'no': \").lower()\n",
        "  if inicio == 'si':\n",
        "    print(\"¡Muy Bien, prepárate para comenzar :)!\")\n",
        "    juego()\n",
        "  else:\n",
        "    print(\"¡Está bien, será en otra ocasión :(!)\")\n",
        "\n",
        "    # (Aquí falta la llamada a la función juego)\n"
      ]
    },
    {
      "cell_type": "code",
      "source": [
        "# Iniciar el juego\n",
        "if __name__ == \"__main__\":\n",
        "  print(\"¿Deseas comenzar el juego de comparador de seguidores de Instagram?\")\n",
        "  inicio = input(\"Escribe 'si' o 'no': \").lower()\n",
        "  if inicio == 'si':\n",
        "    print(\"¡Muy Bien, prepárate para comenzar :)!\")\n",
        "    juego()\n",
        "\n",
        "  else:\n",
        "    print(\"¡Está bien, será en otra ocasión :(!)\")\n",
        "\n",
        "    # (Aquí falta la llamada a la función juego)"
      ],
      "metadata": {
        "colab": {
          "base_uri": "https://localhost:8080/",
          "height": 497
        },
        "id": "66TkRyBGlbfx",
        "outputId": "7aeb22c2-09d1-4cf6-a8e7-178bd4903b82"
      },
      "execution_count": null,
      "outputs": [
        {
          "output_type": "stream",
          "name": "stdout",
          "text": [
            "¿Deseas comenzar el juego de comparador de seguidores de Instagram?\n",
            "Escribe 'si' o 'no': si\n",
            "¡Muy Bien, prepárate para comenzar :)!\n",
            "\n",
            "¿Quién tiene más seguidores en Instagram?\n",
            "A) Premios Nobel : Los Premios Nobel son premios internacionales que reconocen logros sobresalientes en campos como la física, la química, la paz, la literatura y más. de Suecia\n",
            "B) Mark Zuckerberg : Programador y empresario Estadounidense uno de los creadores y fundadores de Facebook y la red social homónima, y su actual presidente. de Estados Unidos\n"
          ]
        },
        {
          "output_type": "error",
          "ename": "KeyboardInterrupt",
          "evalue": "Interrupted by user",
          "traceback": [
            "\u001b[0;31m---------------------------------------------------------------------------\u001b[0m",
            "\u001b[0;31mKeyboardInterrupt\u001b[0m                         Traceback (most recent call last)",
            "\u001b[0;32m<ipython-input-18-2cbf21cda1d7>\u001b[0m in \u001b[0;36m<cell line: 2>\u001b[0;34m()\u001b[0m\n\u001b[1;32m      5\u001b[0m   \u001b[0;32mif\u001b[0m \u001b[0minicio\u001b[0m \u001b[0;34m==\u001b[0m \u001b[0;34m'si'\u001b[0m\u001b[0;34m:\u001b[0m\u001b[0;34m\u001b[0m\u001b[0;34m\u001b[0m\u001b[0m\n\u001b[1;32m      6\u001b[0m     \u001b[0mprint\u001b[0m\u001b[0;34m(\u001b[0m\u001b[0;34m\"¡Muy Bien, prepárate para comenzar :)!\"\u001b[0m\u001b[0;34m)\u001b[0m\u001b[0;34m\u001b[0m\u001b[0;34m\u001b[0m\u001b[0m\n\u001b[0;32m----> 7\u001b[0;31m     \u001b[0mjuego\u001b[0m\u001b[0;34m(\u001b[0m\u001b[0;34m)\u001b[0m\u001b[0;34m\u001b[0m\u001b[0;34m\u001b[0m\u001b[0m\n\u001b[0m\u001b[1;32m      8\u001b[0m \u001b[0;34m\u001b[0m\u001b[0m\n\u001b[1;32m      9\u001b[0m   \u001b[0;32melse\u001b[0m\u001b[0;34m:\u001b[0m\u001b[0;34m\u001b[0m\u001b[0;34m\u001b[0m\u001b[0m\n",
            "\u001b[0;32m<ipython-input-11-1e512bdceb11>\u001b[0m in \u001b[0;36mjuego\u001b[0;34m()\u001b[0m\n\u001b[1;32m    105\u001b[0m \u001b[0;34m\u001b[0m\u001b[0m\n\u001b[1;32m    106\u001b[0m         \u001b[0;31m# Obtener respuesta del usuario\u001b[0m\u001b[0;34m\u001b[0m\u001b[0;34m\u001b[0m\u001b[0m\n\u001b[0;32m--> 107\u001b[0;31m         \u001b[0mrespuesta\u001b[0m \u001b[0;34m=\u001b[0m \u001b[0minput\u001b[0m\u001b[0;34m(\u001b[0m\u001b[0;34m\"Escribe 'A' o 'B': \"\u001b[0m\u001b[0;34m)\u001b[0m\u001b[0;34m.\u001b[0m\u001b[0mstrip\u001b[0m\u001b[0;34m(\u001b[0m\u001b[0;34m)\u001b[0m\u001b[0;34m.\u001b[0m\u001b[0mupper\u001b[0m\u001b[0;34m(\u001b[0m\u001b[0;34m)\u001b[0m\u001b[0;34m\u001b[0m\u001b[0;34m\u001b[0m\u001b[0m\n\u001b[0m\u001b[1;32m    108\u001b[0m \u001b[0;34m\u001b[0m\u001b[0m\n\u001b[1;32m    109\u001b[0m         \u001b[0;31m# Comprobar la respuesta\u001b[0m\u001b[0;34m\u001b[0m\u001b[0;34m\u001b[0m\u001b[0m\n",
            "\u001b[0;32m/usr/local/lib/python3.10/dist-packages/ipykernel/kernelbase.py\u001b[0m in \u001b[0;36mraw_input\u001b[0;34m(self, prompt)\u001b[0m\n\u001b[1;32m    849\u001b[0m                 \u001b[0;34m\"raw_input was called, but this frontend does not support input requests.\"\u001b[0m\u001b[0;34m\u001b[0m\u001b[0;34m\u001b[0m\u001b[0m\n\u001b[1;32m    850\u001b[0m             )\n\u001b[0;32m--> 851\u001b[0;31m         return self._input_request(str(prompt),\n\u001b[0m\u001b[1;32m    852\u001b[0m             \u001b[0mself\u001b[0m\u001b[0;34m.\u001b[0m\u001b[0m_parent_ident\u001b[0m\u001b[0;34m,\u001b[0m\u001b[0;34m\u001b[0m\u001b[0;34m\u001b[0m\u001b[0m\n\u001b[1;32m    853\u001b[0m             \u001b[0mself\u001b[0m\u001b[0;34m.\u001b[0m\u001b[0m_parent_header\u001b[0m\u001b[0;34m,\u001b[0m\u001b[0;34m\u001b[0m\u001b[0;34m\u001b[0m\u001b[0m\n",
            "\u001b[0;32m/usr/local/lib/python3.10/dist-packages/ipykernel/kernelbase.py\u001b[0m in \u001b[0;36m_input_request\u001b[0;34m(self, prompt, ident, parent, password)\u001b[0m\n\u001b[1;32m    893\u001b[0m             \u001b[0;32mexcept\u001b[0m \u001b[0mKeyboardInterrupt\u001b[0m\u001b[0;34m:\u001b[0m\u001b[0;34m\u001b[0m\u001b[0;34m\u001b[0m\u001b[0m\n\u001b[1;32m    894\u001b[0m                 \u001b[0;31m# re-raise KeyboardInterrupt, to truncate traceback\u001b[0m\u001b[0;34m\u001b[0m\u001b[0;34m\u001b[0m\u001b[0m\n\u001b[0;32m--> 895\u001b[0;31m                 \u001b[0;32mraise\u001b[0m \u001b[0mKeyboardInterrupt\u001b[0m\u001b[0;34m(\u001b[0m\u001b[0;34m\"Interrupted by user\"\u001b[0m\u001b[0;34m)\u001b[0m \u001b[0;32mfrom\u001b[0m \u001b[0;32mNone\u001b[0m\u001b[0;34m\u001b[0m\u001b[0;34m\u001b[0m\u001b[0m\n\u001b[0m\u001b[1;32m    896\u001b[0m             \u001b[0;32mexcept\u001b[0m \u001b[0mException\u001b[0m \u001b[0;32mas\u001b[0m \u001b[0me\u001b[0m\u001b[0;34m:\u001b[0m\u001b[0;34m\u001b[0m\u001b[0;34m\u001b[0m\u001b[0m\n\u001b[1;32m    897\u001b[0m                 \u001b[0mself\u001b[0m\u001b[0;34m.\u001b[0m\u001b[0mlog\u001b[0m\u001b[0;34m.\u001b[0m\u001b[0mwarning\u001b[0m\u001b[0;34m(\u001b[0m\u001b[0;34m\"Invalid Message:\"\u001b[0m\u001b[0;34m,\u001b[0m \u001b[0mexc_info\u001b[0m\u001b[0;34m=\u001b[0m\u001b[0;32mTrue\u001b[0m\u001b[0;34m)\u001b[0m\u001b[0;34m\u001b[0m\u001b[0;34m\u001b[0m\u001b[0m\n",
            "\u001b[0;31mKeyboardInterrupt\u001b[0m: Interrupted by user"
          ]
        }
      ]
    }
  ]
}