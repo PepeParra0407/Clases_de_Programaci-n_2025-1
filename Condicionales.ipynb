{
  "nbformat": 4,
  "nbformat_minor": 0,
  "metadata": {
    "colab": {
      "provenance": [],
      "authorship_tag": "ABX9TyNWH3L2ZIMPLuH0kc1fQgLH",
      "include_colab_link": true
    },
    "kernelspec": {
      "name": "python3",
      "display_name": "Python 3"
    },
    "language_info": {
      "name": "python"
    }
  },
  "cells": [
    {
      "cell_type": "markdown",
      "metadata": {
        "id": "view-in-github",
        "colab_type": "text"
      },
      "source": [
        "<a href=\"https://colab.research.google.com/github/PepeParra0407/Clases_de_Programaci-n_2025-1/blob/main/Condicionales.ipynb\" target=\"_parent\"><img src=\"https://colab.research.google.com/assets/colab-badge.svg\" alt=\"Open In Colab\"/></a>"
      ]
    },
    {
      "cell_type": "markdown",
      "source": [
        "Condicionales if-else\n",
        "\n",
        "if condición:\n",
        "  print(\"si se cumple la condición manda a imprimir se acepta\")\n",
        "}\n",
        "else:\n",
        "  print(\"no se cumple la condición, imprime no se acepta\")\n",
        "\n",
        "  "
      ],
      "metadata": {
        "id": "nnTFgtSDOTJC"
      }
    },
    {
      "cell_type": "code",
      "execution_count": 5,
      "metadata": {
        "colab": {
          "base_uri": "https://localhost:8080/"
        },
        "collapsed": true,
        "id": "g8NKGIRkOI5s",
        "outputId": "22fd943f-08f0-4dfb-bc21-8ba1f320e306"
      },
      "outputs": [
        {
          "output_type": "stream",
          "name": "stdout",
          "text": [
            "te puedes subir al juego\n"
          ]
        }
      ],
      "source": [
        "altura=1.20\n",
        "\n",
        "if altura>=1.20:\n",
        "  print(\"te puedes subir al juego\")\n",
        "else:\n",
        "  print(\"no te puedes subir al juego\")\n",
        "  print(\"ve a otro juego\")\n",
        "\n"
      ]
    },
    {
      "cell_type": "code",
      "source": [
        "print('te invito un helado, ¿cuál es tu sabor favorito?')\n",
        "print('1-vainilla\\n2-cafe\\n3-chocolate\\n')\n",
        "print('escribe el número de tu sabor favorito')\n",
        "opcion=int(input('número '))\n",
        "print(f'la opción que elegiste es {opcion}') #esta es otra opción de imprimir variables, se llama f-string\n",
        "\n",
        "#inicio de mi condicional\n",
        "\n",
        "if opcion==1:\n",
        "  print ('Elegiste vainilla, con gusto te lo sirvo :)')\n",
        "elif opcion==2:\n",
        "  print('Elegiste café, pero se nos terminó :( pero tengo pastel o malteada de café. \\n¿quieres alguna de estas opciones?')\n",
        "  seleccion_2=str(input())\n",
        "  if seleccion_2== 'malteada':\n",
        "    print ('te la preparo con gusto :)')\n",
        "  elif seleccion_2 == 'pastel':\n",
        "    print('te llevo tu rebanada')\n",
        "  else:\n",
        "      print('no tenemos esa opción')\n",
        "elif opcion==3:\n",
        "  print ('Elegiste chocolate, con gusto te lo sirvo :)')\n",
        "else:\n",
        "  print ('No seleccionaste un número de sabor adecuado :(')\n"
      ],
      "metadata": {
        "colab": {
          "base_uri": "https://localhost:8080/"
        },
        "id": "a3ljA4biRwuu",
        "outputId": "38a44abb-d581-4e8c-c923-3f982f59943d"
      },
      "execution_count": 52,
      "outputs": [
        {
          "output_type": "stream",
          "name": "stdout",
          "text": [
            "te invito un helado, ¿cuál es tu sabor favorito?\n",
            "1-vainilla\n",
            "2-cafe\n",
            "3-chocolate\n",
            "\n",
            "escribe el número de tu sabor favorito\n",
            "número 2\n",
            "la opción que elegiste es 2\n",
            "Elegiste café, pero se nos terminó :( pero tengo pastel o malteada de café. \n",
            "¿quieres alguna de estas opciones?\n",
            "pastel\n",
            "te llevo tu rebanada\n"
          ]
        }
      ]
    },
    {
      "cell_type": "code",
      "source": [
        "print(type(opcion))\n"
      ],
      "metadata": {
        "colab": {
          "base_uri": "https://localhost:8080/"
        },
        "id": "lmYdY35DUHUH",
        "outputId": "d22e8c28-27af-4d0a-bff0-75b3a2babe5c"
      },
      "execution_count": 16,
      "outputs": [
        {
          "output_type": "stream",
          "name": "stdout",
          "text": [
            "<class 'int'>\n"
          ]
        }
      ]
    }
  ]
}