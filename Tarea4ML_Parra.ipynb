{
  "nbformat": 4,
  "nbformat_minor": 0,
  "metadata": {
    "colab": {
      "provenance": [],
      "authorship_tag": "ABX9TyNQ5fMItXOGayW3OIRl2wLq",
      "include_colab_link": true
    },
    "kernelspec": {
      "name": "python3",
      "display_name": "Python 3"
    },
    "language_info": {
      "name": "python"
    }
  },
  "cells": [
    {
      "cell_type": "markdown",
      "metadata": {
        "id": "view-in-github",
        "colab_type": "text"
      },
      "source": [
        "<a href=\"https://colab.research.google.com/github/PepeParra0407/Clases_de_Programaci-n_2025-1/blob/main/Tarea4ML_Parra.ipynb\" target=\"_parent\"><img src=\"https://colab.research.google.com/assets/colab-badge.svg\" alt=\"Open In Colab\"/></a>"
      ]
    },
    {
      "cell_type": "markdown",
      "source": [
        "Utilizando el archivo penguins.csv y realizar las siguientes actividades:\n",
        "\n",
        "1.Análisis de los datos, utiliza al menos 3 tipos de gráficas como:\n",
        "bigotes, matriz de correlación, etc. Escribe tus observaciones\n",
        "2.Utiliza KNN o SVM para predecir la especie de un pingüino  \n",
        "3.Indica la precisión de tu modelo, traza la matriz de confusión de este ejercicio\n",
        "\n",
        "Incluye el código en python y un archivo PDF que contenga las imágenes de las\n",
        "gráficas"
      ],
      "metadata": {
        "id": "GBWOi1BNhqiK"
      }
    },
    {
      "cell_type": "code",
      "source": [
        "import pandas as pd\n",
        "import seaborn as sn\n",
        "import matplotlib.pyplot as plt\n",
        "\n",
        "pd.set_option('display.max_rows', None)\n",
        "pd.set_option('display.max_columns', None)\n",
        "\n",
        "file = pd.read_csv('breast-cancer.csv')\n",
        "\n",
        "info = file.info()\n",
        "desc = file.describe()\n",
        "cols = file.columns\n",
        "\n",
        "file.drop('id', axis=1, inplace=True)\n",
        "file['diagnosis'] = (file['diagnosis'] == 'M').astype(int)"
      ],
      "metadata": {
        "id": "bFyJokAtjulu"
      },
      "execution_count": null,
      "outputs": []
    }
  ]
}