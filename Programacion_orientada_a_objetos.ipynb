{
  "nbformat": 4,
  "nbformat_minor": 0,
  "metadata": {
    "colab": {
      "provenance": [],
      "authorship_tag": "ABX9TyNrCv5So4SfYgG2REPDhzNy",
      "include_colab_link": true
    },
    "kernelspec": {
      "name": "python3",
      "display_name": "Python 3"
    },
    "language_info": {
      "name": "python"
    }
  },
  "cells": [
    {
      "cell_type": "markdown",
      "metadata": {
        "id": "view-in-github",
        "colab_type": "text"
      },
      "source": [
        "<a href=\"https://colab.research.google.com/github/PepeParra0407/Clases_de_Programaci-n_2025-1/blob/main/Programacion_orientada_a_objetos.ipynb\" target=\"_parent\"><img src=\"https://colab.research.google.com/assets/colab-badge.svg\" alt=\"Open In Colab\"/></a>"
      ]
    },
    {
      "cell_type": "code",
      "execution_count": 19,
      "metadata": {
        "colab": {
          "base_uri": "https://localhost:8080/"
        },
        "id": "Dpa4n_hXzVV4",
        "outputId": "0ba93096-3c5d-494b-d3c2-2ed378aa236f"
      },
      "outputs": [
        {
          "output_type": "stream",
          "name": "stdout",
          "text": [
            "Guaaauuuu!, mi nombre es  Buddy  y mi edad es  9\n"
          ]
        }
      ],
      "source": [
        "class Perro:\n",
        "    #Class attribute\n",
        "    species = \"Canis familiaris\"\n",
        "\n",
        "    def __init__(self, name, age):\n",
        "        self.name = name\n",
        "        self.age = age\n",
        "class Perro:\n",
        "    #Class attribute\n",
        "    species = \"Canis familiaris\"\n",
        "\n",
        "    def __init__(self, name, age):\n",
        "        self.name = name\n",
        "        self.age = age\n",
        "\n",
        "    def presentacion (self):\n",
        "      print(\"Guaaauuuu!, mi nombre es \" ,self.name, \" y mi edad es \", self.age)\n",
        "\n",
        "perro_1 = Perro(\"Buddy\", 9)\n",
        "perro_2 = Perro(\"Miles\", 4)\n",
        "perro_3 = Perro(\"Pucca\", 15)\n",
        "\n",
        "perro_1.presentacion()\n"
      ]
    }
  ]
}