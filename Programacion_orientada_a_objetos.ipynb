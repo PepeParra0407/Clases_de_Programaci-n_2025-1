{
  "nbformat": 4,
  "nbformat_minor": 0,
  "metadata": {
    "colab": {
      "provenance": [],
      "authorship_tag": "ABX9TyOoCbjCC9Irb1+P4vEQ8lOQ",
      "include_colab_link": true
    },
    "kernelspec": {
      "name": "python3",
      "display_name": "Python 3"
    },
    "language_info": {
      "name": "python"
    }
  },
  "cells": [
    {
      "cell_type": "markdown",
      "metadata": {
        "id": "view-in-github",
        "colab_type": "text"
      },
      "source": [
        "<a href=\"https://colab.research.google.com/github/PepeParra0407/Clases_de_Programaci-n_2025-1/blob/main/Programacion_orientada_a_objetos.ipynb\" target=\"_parent\"><img src=\"https://colab.research.google.com/assets/colab-badge.svg\" alt=\"Open In Colab\"/></a>"
      ]
    },
    {
      "cell_type": "code",
      "execution_count": 1,
      "metadata": {
        "colab": {
          "base_uri": "https://localhost:8080/"
        },
        "id": "Dpa4n_hXzVV4",
        "outputId": "3d60ce3f-7662-4cf6-950a-30e615749e0a"
      },
      "outputs": [
        {
          "output_type": "stream",
          "name": "stdout",
          "text": [
            "Guaaauuuu!, mi nombre es  Buddy  mi edad es  9  soy un  Macho , Labrador  de color  Amarillo mido  1.65  metros y peso  45 kilos Cualquier cosa contactar a mi dueño  Sebastian\n",
            "Guaaauuuu!, mi nombre es  Miles  mi edad es  4  soy un  Macho , Husky  de color  Negro mido  1.7  metros y peso  75 kilos Cualquier cosa contactar a mi dueño  Melissa\n",
            "Guaaauuuu!, mi nombre es  Pucca  mi edad es  15  soy un  Hembra , Coton de Tulear  de color  Blanco mido  0.45  metros y peso  12 kilos Cualquier cosa contactar a mi dueño  Pepe\n"
          ]
        }
      ],
      "source": [
        "\n",
        "class Perro:\n",
        "    #Class attribute\n",
        "    species = \"Canis familiaris\"\n",
        "\n",
        "    def __init__(self, name, age, sexo, raza, color, tamaño, peso, dueño):\n",
        "        self.name = name\n",
        "        self.age = age\n",
        "        self.sexo = sexo\n",
        "        self.raza = raza\n",
        "        self.color = color\n",
        "        self.tamaño = tamaño\n",
        "        self.peso = peso\n",
        "        self.dueño = dueño\n",
        "\n",
        "    def presentacion (self):\n",
        "      print(\"Guaaauuuu!, mi nombre es \" ,self.name, \" mi edad es \", self.age, \" soy un \" ,self.sexo, \",\",self.raza, \" de color \" ,self.color, \"mido \" ,self.tamaño,\" metros \" \"y peso \" ,self.peso, \"kilos\", \"Cualquier cosa contactar a mi dueño \" ,self.dueño)\n",
        "\n",
        "\n",
        "\n",
        "perro_1 = Perro(\"Buddy\", 9, \"Macho\", \"Labrador\", \"Amarillo\", 1.65, 45, \"Sebastian\")\n",
        "perro_2 = Perro(\"Miles\", 4, \"Macho\", \"Husky\", \"Negro\", 1.70, 75, \"Melissa\")\n",
        "perro_3 = Perro(\"Pucca\", 15, \"Hembra\", \"Coton de Tulear\", \"Blanco\", 0.45, 12, \"Pepe\")\n",
        "\n",
        "perro_1.presentacion()\n",
        "perro_2.presentacion()\n",
        "perro_3.presentacion()\n"
      ]
    }
  ]
}